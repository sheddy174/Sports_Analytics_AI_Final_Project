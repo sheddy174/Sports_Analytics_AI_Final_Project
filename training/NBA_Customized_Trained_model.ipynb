{
 "cells": [
  {
   "cell_type": "code",
   "execution_count": null,
   "metadata": {},
   "outputs": [],
   "source": [
    "!pip install ultralytics\n",
    "!pip install supervision\n",
    "from ultralytics import YOLO"
   ]
  },
  {
   "cell_type": "code",
   "execution_count": null,
   "metadata": {},
   "outputs": [],
   "source": [
    "!pip install roboflow\n",
    "\n",
    "from roboflow import Roboflow\n",
    "rf = Roboflow(api_key=\"lH09DnKk61RFe97Ece7A\")\n",
    "project = rf.workspace(\"test-datset\").project(\"player_detect-0spfb\")\n",
    "version = project.version(1)\n",
    "dataset = version.download(\"yolov8\")"
   ]
  },
  {
   "cell_type": "code",
   "execution_count": null,
   "metadata": {},
   "outputs": [],
   "source": [
    "import shutil\n",
    "shutil.move('Player_detect-1/train', 'Player_detect-1/Player_detect-1/train')\n",
    "shutil.move('Player_detect-1/test', 'Player_detect-1/Player_detect-1/test')\n",
    "shutil.move('Player_detect-1/valid', 'Player_detect-1/Player_detect-1/valid')"
   ]
  },
  {
   "cell_type": "code",
   "execution_count": null,
   "metadata": {},
   "outputs": [],
   "source": [
    "!yolo task=detect mode=train model=yolov8n.yaml data=/content/Player_detect-1/data.yaml epochs=100 imgsz=640"
   ]
  },
  {
   "cell_type": "code",
   "execution_count": null,
   "metadata": {},
   "outputs": [],
   "source": [
    "import shutil\n",
    "\n",
    "# Define paths\n",
    "model_path = 'runs/detect/train3/weights/best.pt'  # Path to the trained YOLO model\n",
    "save_path = '/content/drive/MyDrive/Colab Notebooks/yolov8_trained_best_model.pt'\n",
    "\n",
    "# Move the model file to Google Drive\n",
    "shutil.move(model_path, save_path)"
   ]
  },
  {
   "cell_type": "code",
   "execution_count": null,
   "metadata": {},
   "outputs": [],
   "source": [
    "import shutil\n",
    "\n",
    "# Define paths\n",
    "model_path = 'runs/detect/train3/weights/last.pt'  # Path to the trained YOLO model\n",
    "save_path = '/content/drive/MyDrive/Colab Notebooks/yolov8_trained_last_model.pt'\n",
    "\n",
    "# Move the model file to Google Drive\n",
    "shutil.move(model_path, save_path)"
   ]
  }
 ],
 "metadata": {
  "language_info": {
   "name": "python"
  }
 },
 "nbformat": 4,
 "nbformat_minor": 2
}
